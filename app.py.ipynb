{
 "cells": [
  {
   "cell_type": "code",
   "execution_count": 1,
   "id": "14b708f8-43c6-4d74-aa22-8ae364bd2186",
   "metadata": {},
   "outputs": [
    {
     "name": "stderr",
     "output_type": "stream",
     "text": [
      "2025-06-26 23:49:26.742 \n",
      "  \u001b[33m\u001b[1mWarning:\u001b[0m to view this Streamlit app on a browser, run it with the following\n",
      "  command:\n",
      "\n",
      "    streamlit run C:\\Users\\DELL\\anaconda3\\Lib\\site-packages\\ipykernel_launcher.py [ARGUMENTS]\n"
     ]
    }
   ],
   "source": [
    "import streamlit as st\n",
    "import pandas as pd\n",
    "import joblib\n",
    "\n",
    "# Load the trained model\n",
    "model = joblib.load(\"model_xgb.pkl\")\n",
    "\n",
    "st.title(\"Credit Card Fraud Detector\")\n",
    "st.markdown(\"Upload a transaction CSV and detect potential frauds.\")\n",
    "\n",
    "# File uploader\n",
    "uploaded_file = st.file_uploader(\"Choose a CSV file\", type=\"csv\")\n",
    "\n",
    "if uploaded_file is not None:\n",
    "    df = pd.read_csv(uploaded_file)\n",
    "    \n",
    "    # Predict\n",
    "    probs = model.predict_proba(df)[:, 1]\n",
    "    preds = model.predict(df)\n",
    "\n",
    "    df[\"Fraud Probability\"] = probs\n",
    "    df[\"Prediction\"] = preds\n",
    "    df[\"Prediction\"] = df[\"Prediction\"].map({0: \"Not Fraud\", 1: \"Fraud\"})\n",
    "\n",
    "    st.success(f\"Processed {len(df)} transactions\")\n",
    "    st.dataframe(df[[\"Fraud Probability\", \"Prediction\"]].join(df.drop(columns=[\"Fraud Probability\", \"Prediction\"])))\n",
    "\n",
    "    # Download results\n",
    "    csv = df.to_csv(index=False).encode('utf-8')\n",
    "    st.download_button(\"Download Predictions\", csv, \"fraud_predictions.csv\", \"text/csv\")\n"
   ]
  },
  {
   "cell_type": "code",
   "execution_count": null,
   "id": "23892a77-3353-4733-a09e-5035dcec2682",
   "metadata": {},
   "outputs": [],
   "source": []
  }
 ],
 "metadata": {
  "kernelspec": {
   "display_name": "Python [conda env:base] *",
   "language": "python",
   "name": "conda-base-py"
  },
  "language_info": {
   "codemirror_mode": {
    "name": "ipython",
    "version": 3
   },
   "file_extension": ".py",
   "mimetype": "text/x-python",
   "name": "python",
   "nbconvert_exporter": "python",
   "pygments_lexer": "ipython3",
   "version": "3.12.7"
  }
 },
 "nbformat": 4,
 "nbformat_minor": 5
}
